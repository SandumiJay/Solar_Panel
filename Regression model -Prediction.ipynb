{
 "cells": [
  {
   "cell_type": "code",
   "execution_count": 31,
   "id": "4ee8ceb4",
   "metadata": {},
   "outputs": [],
   "source": [
    "import pickle\n",
    "import pandas as pd\n",
    "from sklearn.preprocessing import LabelEncoder\n",
    "from sklearn.preprocessing import StandardScaler"
   ]
  },
  {
   "cell_type": "code",
   "execution_count": 32,
   "id": "6aec8e04",
   "metadata": {},
   "outputs": [],
   "source": [
    "#Load Model for predictio\n",
    "loaded_model = pickle.load(open(\"Regression_model_for_Power_Generation.pkl\", \"rb\"))"
   ]
  },
  {
   "cell_type": "code",
   "execution_count": 33,
   "id": "f04616a0",
   "metadata": {},
   "outputs": [],
   "source": [
    "data = pd.read_csv('D:\\Bit Code\\Solar Panel\\data.csv')"
   ]
  },
  {
   "cell_type": "code",
   "execution_count": 34,
   "id": "acf354ac",
   "metadata": {},
   "outputs": [],
   "source": [
    "data=data.drop(labels=['yearly_sunlight_kwh_e', 'yearly_sunlight_kwh_n','yearly_sunlight_kwh_s','yearly_sunlight_kwh_w','number_of_panels_e','number_of_panels_s','number_of_panels_w','yearly_sunlight_kwh_f','number_of_panels_f','number_of_panels_n'], axis=1)\n"
   ]
  },
  {
   "cell_type": "code",
   "execution_count": 35,
   "id": "02bf69cc",
   "metadata": {},
   "outputs": [],
   "source": [
    "data=data.dropna()"
   ]
  },
  {
   "cell_type": "code",
   "execution_count": 36,
   "id": "5c609f74",
   "metadata": {},
   "outputs": [
    {
     "data": {
      "text/plain": [
       "state_name                   0\n",
       "region_name                  0\n",
       "percent_qualified            0\n",
       "yearly_sunlight_kwh_total    0\n",
       "number_of_panels_total       0\n",
       "lat_avg                      0\n",
       "lng_avg                      0\n",
       "kw_total                     0\n",
       "dtype: int64"
      ]
     },
     "execution_count": 36,
     "metadata": {},
     "output_type": "execute_result"
    }
   ],
   "source": [
    "data.isnull().sum()"
   ]
  },
  {
   "cell_type": "code",
   "execution_count": 37,
   "id": "7117896b",
   "metadata": {},
   "outputs": [],
   "source": [
    "#encode categorical Data\n",
    "country_encoder = LabelEncoder()\n",
    "country_encoder.fit(data['state_name'])\n",
    "country_code = country_encoder.transform(data['state_name'])"
   ]
  },
  {
   "cell_type": "code",
   "execution_count": 50,
   "id": "4515ce72",
   "metadata": {},
   "outputs": [],
   "source": [
    "X = data.iloc[:,:-1]\n",
    "Y = data.iloc[:,-1]"
   ]
  },
  {
   "cell_type": "code",
   "execution_count": 51,
   "id": "fbcabd9f",
   "metadata": {},
   "outputs": [],
   "source": [
    "X['Country_code']=country_code.tolist()"
   ]
  },
  {
   "cell_type": "code",
   "execution_count": 52,
   "id": "0852f39b",
   "metadata": {},
   "outputs": [],
   "source": [
    "X=X.drop(columns=['state_name'],axis=1)"
   ]
  },
  {
   "cell_type": "code",
   "execution_count": 54,
   "id": "23888e13",
   "metadata": {},
   "outputs": [],
   "source": [
    "# Rescale test inputs\n",
    "scaler = StandardScaler().fit(X)\n",
    "X_scaled= scaler.transform(X.iloc[[0]])"
   ]
  },
  {
   "cell_type": "code",
   "execution_count": 55,
   "id": "d7bcc531",
   "metadata": {},
   "outputs": [],
   "source": [
    "Y_pred=loaded_model.predict(X_scaled)"
   ]
  },
  {
   "cell_type": "code",
   "execution_count": 56,
   "id": "49731364",
   "metadata": {},
   "outputs": [
    {
     "data": {
      "text/plain": [
       "array([6563.07604235])"
      ]
     },
     "execution_count": 56,
     "metadata": {},
     "output_type": "execute_result"
    }
   ],
   "source": [
    "Y_pred"
   ]
  },
  {
   "cell_type": "code",
   "execution_count": null,
   "id": "bfbc471c",
   "metadata": {},
   "outputs": [],
   "source": []
  }
 ],
 "metadata": {
  "kernelspec": {
   "display_name": "Python 3 (ipykernel)",
   "language": "python",
   "name": "python3"
  },
  "language_info": {
   "codemirror_mode": {
    "name": "ipython",
    "version": 3
   },
   "file_extension": ".py",
   "mimetype": "text/x-python",
   "name": "python",
   "nbconvert_exporter": "python",
   "pygments_lexer": "ipython3",
   "version": "3.9.7"
  }
 },
 "nbformat": 4,
 "nbformat_minor": 5
}
