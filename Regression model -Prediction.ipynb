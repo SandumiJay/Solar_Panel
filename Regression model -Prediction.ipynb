{
 "cells": [
  {
   "cell_type": "code",
   "execution_count": 92,
   "id": "e488389d",
   "metadata": {},
   "outputs": [],
   "source": [
    "import pickle\n",
    "import pandas as pd\n",
    "from sklearn.preprocessing import LabelEncoder\n",
    "from sklearn.preprocessing import StandardScaler"
   ]
  },
  {
   "cell_type": "code",
   "execution_count": 93,
   "id": "7eedc698",
   "metadata": {},
   "outputs": [],
   "source": [
    "#Load Model for prediction\n",
    "loaded_model = pickle.load(open(\"Regression_model_for_Power_Generation.pkl\", \"rb\"))"
   ]
  },
  {
   "cell_type": "code",
   "execution_count": 94,
   "id": "5d5c6c3e",
   "metadata": {},
   "outputs": [],
   "source": [
    "# Fit Scaler\n",
    "data = pd.read_csv('D:\\Bit Code\\Solar Panel\\data.csv')\n",
    "data=data.drop(labels=['yearly_sunlight_kwh_e', 'yearly_sunlight_kwh_n','yearly_sunlight_kwh_s','yearly_sunlight_kwh_w','number_of_panels_e','number_of_panels_s','number_of_panels_w','yearly_sunlight_kwh_f','number_of_panels_f','number_of_panels_n'], axis=1)\n",
    "data=data.dropna()\n",
    "#encode categorical Data\n",
    "country_encoder = LabelEncoder()\n",
    "country_encoder.fit(data['state_name'])\n",
    "country_code = country_encoder.transform(data['state_name'])\n",
    "X = data.iloc[:,:-1]\n",
    "X['Country_code']=country_code.tolist()\n",
    "# Fit the Scaler\n",
    "scaler = StandardScaler().fit(X)"
   ]
  },
  {
   "cell_type": "markdown",
   "id": "62ba7290",
   "metadata": {},
   "source": [
    "Testing the new inputs "
   ]
  },
  {
   "cell_type": "code",
   "execution_count": 112,
   "id": "b8ea0945",
   "metadata": {},
   "outputs": [],
   "source": [
    "# date_set only contains one entry\n",
    "data_test = pd.read_csv('D:\\Bit Code\\Solar Panel\\data_test.csv')"
   ]
  },
  {
   "cell_type": "code",
   "execution_count": 113,
   "id": "194ea2de",
   "metadata": {},
   "outputs": [],
   "source": [
    "data_test=data_test.drop(labels=['yearly_sunlight_kwh_e', 'yearly_sunlight_kwh_n','yearly_sunlight_kwh_s','yearly_sunlight_kwh_w','number_of_panels_e','number_of_panels_s','number_of_panels_w','yearly_sunlight_kwh_f','number_of_panels_f','number_of_panels_n'], axis=1)"
   ]
  },
  {
   "cell_type": "code",
   "execution_count": 114,
   "id": "651101d7",
   "metadata": {},
   "outputs": [],
   "source": [
    "X_test = data_test.iloc[:,:-1]\n",
    "Y_test = data_test.iloc[:,-1]"
   ]
  },
  {
   "cell_type": "code",
   "execution_count": 115,
   "id": "2d6250f6",
   "metadata": {},
   "outputs": [],
   "source": [
    "country_encoder_test = LabelEncoder()\n",
    "country_encoder_test.fit(data_test['state_name'])\n",
    "country_code_test = country_encoder_test.transform(data_test['state_name'])\n",
    "X_test['Country_code']=country_code_test.tolist()\n",
    "X_test=X_test.drop(columns=['state_name'],axis=1)"
   ]
  },
  {
   "cell_type": "code",
   "execution_count": 116,
   "id": "294dcc6e",
   "metadata": {},
   "outputs": [],
   "source": [
    "X_scaled= scaler.transform(X_test.iloc[[0]])"
   ]
  },
  {
   "cell_type": "code",
   "execution_count": 117,
   "id": "1c8066d2",
   "metadata": {},
   "outputs": [
    {
     "data": {
      "text/html": [
       "<div>\n",
       "<style scoped>\n",
       "    .dataframe tbody tr th:only-of-type {\n",
       "        vertical-align: middle;\n",
       "    }\n",
       "\n",
       "    .dataframe tbody tr th {\n",
       "        vertical-align: top;\n",
       "    }\n",
       "\n",
       "    .dataframe thead th {\n",
       "        text-align: right;\n",
       "    }\n",
       "</style>\n",
       "<table border=\"1\" class=\"dataframe\">\n",
       "  <thead>\n",
       "    <tr style=\"text-align: right;\">\n",
       "      <th></th>\n",
       "      <th>state_name</th>\n",
       "      <th>region_name</th>\n",
       "      <th>percent_qualified</th>\n",
       "      <th>yearly_sunlight_kwh_total</th>\n",
       "      <th>number_of_panels_total</th>\n",
       "      <th>lat_avg</th>\n",
       "      <th>lng_avg</th>\n",
       "      <th>kw_total</th>\n",
       "    </tr>\n",
       "  </thead>\n",
       "  <tbody>\n",
       "    <tr>\n",
       "      <th>0</th>\n",
       "      <td>California</td>\n",
       "      <td>6037104401</td>\n",
       "      <td>86.303387</td>\n",
       "      <td>7922383.025</td>\n",
       "      <td>20876</td>\n",
       "      <td>34.26704</td>\n",
       "      <td>-118.432716</td>\n",
       "      <td>5219</td>\n",
       "    </tr>\n",
       "  </tbody>\n",
       "</table>\n",
       "</div>"
      ],
      "text/plain": [
       "   state_name  region_name  percent_qualified  yearly_sunlight_kwh_total  \\\n",
       "0  California   6037104401          86.303387                7922383.025   \n",
       "\n",
       "   number_of_panels_total   lat_avg     lng_avg  kw_total  \n",
       "0                   20876  34.26704 -118.432716      5219  "
      ]
     },
     "execution_count": 117,
     "metadata": {},
     "output_type": "execute_result"
    }
   ],
   "source": [
    "data_test"
   ]
  },
  {
   "cell_type": "code",
   "execution_count": 118,
   "id": "fbcff69e",
   "metadata": {},
   "outputs": [
    {
     "data": {
      "text/plain": [
       "array([[-1.27531637,  0.56799283, -0.63739813, -0.71569292, -0.63010637,\n",
       "        -1.48805009, -1.51131009]])"
      ]
     },
     "execution_count": 118,
     "metadata": {},
     "output_type": "execute_result"
    }
   ],
   "source": [
    "X_scaled"
   ]
  },
  {
   "cell_type": "code",
   "execution_count": 119,
   "id": "b7204ef0",
   "metadata": {},
   "outputs": [],
   "source": [
    "Y_pred=loaded_model.predict(X_scaled)"
   ]
  },
  {
   "cell_type": "code",
   "execution_count": 120,
   "id": "b8ab5dea",
   "metadata": {},
   "outputs": [
    {
     "data": {
      "text/plain": [
       "array([6563.07604235])"
      ]
     },
     "execution_count": 120,
     "metadata": {},
     "output_type": "execute_result"
    }
   ],
   "source": [
    "Y_pred"
   ]
  },
  {
   "cell_type": "code",
   "execution_count": null,
   "id": "858c7c97",
   "metadata": {},
   "outputs": [],
   "source": []
  }
 ],
 "metadata": {
  "kernelspec": {
   "display_name": "Python 3 (ipykernel)",
   "language": "python",
   "name": "python3"
  },
  "language_info": {
   "codemirror_mode": {
    "name": "ipython",
    "version": 3
   },
   "file_extension": ".py",
   "mimetype": "text/x-python",
   "name": "python",
   "nbconvert_exporter": "python",
   "pygments_lexer": "ipython3",
   "version": "3.9.7"
  }
 },
 "nbformat": 4,
 "nbformat_minor": 5
}
