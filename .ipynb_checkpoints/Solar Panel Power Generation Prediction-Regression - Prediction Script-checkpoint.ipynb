{
 "cells": [
  {
   "cell_type": "code",
   "execution_count": 1,
   "id": "57036192",
   "metadata": {},
   "outputs": [],
   "source": [
    "import pickle\n",
    "import pandas as pd\n",
    "from sklearn.preprocessing import LabelEncoder\n",
    "from sklearn.preprocessing import StandardScaler"
   ]
  },
  {
   "cell_type": "code",
   "execution_count": 3,
   "id": "a59c8342",
   "metadata": {},
   "outputs": [],
   "source": [
    "#Load Model for prediction\n",
    "loaded_model = pickle.load(open(\"Regression_model_for_Power_Generation.pkl\", \"rb\"))"
   ]
  },
  {
   "cell_type": "code",
   "execution_count": 4,
   "id": "0e58c3d6",
   "metadata": {},
   "outputs": [],
   "source": [
    "# Fit Scaler\n",
    "data = pd.read_csv('D:\\Bit Code\\Solar Panel\\data.csv')\n",
    "data=data.drop(labels=['yearly_sunlight_kwh_e', 'yearly_sunlight_kwh_n','yearly_sunlight_kwh_s','yearly_sunlight_kwh_w','number_of_panels_e','number_of_panels_s','number_of_panels_w','yearly_sunlight_kwh_f','number_of_panels_f','number_of_panels_n','kw_total'], axis=1)\n",
    "data=data.dropna()\n",
    "#encode categorical Data\n",
    "country_encoder = LabelEncoder()\n",
    "country_encoder.fit(data['state_name'])\n",
    "country_code = country_encoder.transform(data['state_name'])\n",
    "X = data\n",
    "X=X.drop(columns=['state_name'],axis=1)\n",
    "X['Country_code']=country_code.tolist()\n",
    "# Fit the Scaler\n",
    "scaler = StandardScaler().fit(X)"
   ]
  },
  {
   "cell_type": "markdown",
   "id": "306b823f",
   "metadata": {},
   "source": [
    "Testing the new inputs "
   ]
  },
  {
   "cell_type": "code",
   "execution_count": 4,
   "id": "24cb5cbc",
   "metadata": {},
   "outputs": [],
   "source": [
    "# date_set only contains one entry\n",
    "data_test = pd.read_csv('data_test.csv')"
   ]
  },
  {
   "cell_type": "code",
   "execution_count": 5,
   "id": "88a30e73",
   "metadata": {},
   "outputs": [
    {
     "data": {
      "text/html": [
       "<div>\n",
       "<style scoped>\n",
       "    .dataframe tbody tr th:only-of-type {\n",
       "        vertical-align: middle;\n",
       "    }\n",
       "\n",
       "    .dataframe tbody tr th {\n",
       "        vertical-align: top;\n",
       "    }\n",
       "\n",
       "    .dataframe thead th {\n",
       "        text-align: right;\n",
       "    }\n",
       "</style>\n",
       "<table border=\"1\" class=\"dataframe\">\n",
       "  <thead>\n",
       "    <tr style=\"text-align: right;\">\n",
       "      <th></th>\n",
       "      <th>state_name</th>\n",
       "      <th>region_name</th>\n",
       "      <th>percent_qualified</th>\n",
       "      <th>yearly_sunlight_kwh_f</th>\n",
       "      <th>yearly_sunlight_kwh_e</th>\n",
       "      <th>yearly_sunlight_kwh_n</th>\n",
       "      <th>yearly_sunlight_kwh_s</th>\n",
       "      <th>yearly_sunlight_kwh_w</th>\n",
       "      <th>yearly_sunlight_kwh_total</th>\n",
       "      <th>number_of_panels_e</th>\n",
       "      <th>number_of_panels_f</th>\n",
       "      <th>number_of_panels_n</th>\n",
       "      <th>number_of_panels_s</th>\n",
       "      <th>number_of_panels_w</th>\n",
       "      <th>number_of_panels_total</th>\n",
       "      <th>lat_avg</th>\n",
       "      <th>lng_avg</th>\n",
       "      <th>kw_total</th>\n",
       "    </tr>\n",
       "  </thead>\n",
       "  <tbody>\n",
       "    <tr>\n",
       "      <th>0</th>\n",
       "      <td>California</td>\n",
       "      <td>6037104401</td>\n",
       "      <td>86.303387</td>\n",
       "      <td>2539152.18</td>\n",
       "      <td>1014756.467</td>\n",
       "      <td>1075291.372</td>\n",
       "      <td>1760042.866</td>\n",
       "      <td>1533140.14</td>\n",
       "      <td>7922383.025</td>\n",
       "      <td>2964</td>\n",
       "      <td>6574</td>\n",
       "      <td>3159</td>\n",
       "      <td>4352</td>\n",
       "      <td>3827</td>\n",
       "      <td>20876</td>\n",
       "      <td>34.26704</td>\n",
       "      <td>-118.432716</td>\n",
       "      <td>5219</td>\n",
       "    </tr>\n",
       "  </tbody>\n",
       "</table>\n",
       "</div>"
      ],
      "text/plain": [
       "   state_name  region_name  percent_qualified  yearly_sunlight_kwh_f  \\\n",
       "0  California   6037104401          86.303387             2539152.18   \n",
       "\n",
       "   yearly_sunlight_kwh_e  yearly_sunlight_kwh_n  yearly_sunlight_kwh_s  \\\n",
       "0            1014756.467            1075291.372            1760042.866   \n",
       "\n",
       "   yearly_sunlight_kwh_w  yearly_sunlight_kwh_total  number_of_panels_e  \\\n",
       "0             1533140.14                7922383.025                2964   \n",
       "\n",
       "   number_of_panels_f  number_of_panels_n  number_of_panels_s  \\\n",
       "0                6574                3159                4352   \n",
       "\n",
       "   number_of_panels_w  number_of_panels_total   lat_avg     lng_avg  kw_total  \n",
       "0                3827                   20876  34.26704 -118.432716      5219  "
      ]
     },
     "execution_count": 5,
     "metadata": {},
     "output_type": "execute_result"
    }
   ],
   "source": [
    "data_test"
   ]
  },
  {
   "cell_type": "code",
   "execution_count": 6,
   "id": "82133eeb",
   "metadata": {},
   "outputs": [],
   "source": [
    "data_test=data_test.drop(labels=['yearly_sunlight_kwh_e', 'yearly_sunlight_kwh_n','yearly_sunlight_kwh_s','yearly_sunlight_kwh_w','number_of_panels_e','number_of_panels_s','number_of_panels_w','yearly_sunlight_kwh_f','number_of_panels_f','number_of_panels_n','kw_total'], axis=1)"
   ]
  },
  {
   "cell_type": "code",
   "execution_count": null,
   "id": "c9bd3809",
   "metadata": {},
   "outputs": [],
   "source": []
  },
  {
   "cell_type": "code",
   "execution_count": 7,
   "id": "a0b30ea5",
   "metadata": {},
   "outputs": [],
   "source": [
    "country_encoder_test = LabelEncoder()\n",
    "country_encoder_test.fit(data_test['state_name'])\n",
    "country_code_test = country_encoder_test.transform(data_test['state_name'])\n",
    "data_test['Country_code']=country_code_test.tolist()\n",
    "data_test=data_test.drop(columns=['state_name'],axis=1)"
   ]
  },
  {
   "cell_type": "code",
   "execution_count": 8,
   "id": "4a18336c",
   "metadata": {},
   "outputs": [],
   "source": [
    "X_scaled= scaler.transform(data_test.iloc[[0]])"
   ]
  },
  {
   "cell_type": "code",
   "execution_count": 9,
   "id": "c906d4fe",
   "metadata": {},
   "outputs": [
    {
     "data": {
      "text/plain": [
       "array([[-1.27531637,  0.56799283, -0.63739813, -0.71569292, -0.63010637,\n",
       "        -1.48805009, -1.51131009]])"
      ]
     },
     "execution_count": 9,
     "metadata": {},
     "output_type": "execute_result"
    }
   ],
   "source": [
    "X_scaled"
   ]
  },
  {
   "cell_type": "code",
   "execution_count": 10,
   "id": "a8bd4baf",
   "metadata": {},
   "outputs": [],
   "source": [
    "Y_pred=loaded_model.predict(X_scaled)"
   ]
  },
  {
   "cell_type": "code",
   "execution_count": 11,
   "id": "80a983f7",
   "metadata": {},
   "outputs": [
    {
     "data": {
      "text/plain": [
       "array([6563.07604235])"
      ]
     },
     "execution_count": 11,
     "metadata": {},
     "output_type": "execute_result"
    }
   ],
   "source": [
    "Y_pred"
   ]
  },
  {
   "cell_type": "code",
   "execution_count": null,
   "id": "c78cebf6",
   "metadata": {},
   "outputs": [],
   "source": []
  },
  {
   "cell_type": "code",
   "execution_count": null,
   "id": "f1ecb0bb",
   "metadata": {},
   "outputs": [],
   "source": []
  }
 ],
 "metadata": {
  "kernelspec": {
   "display_name": "Python 3 (ipykernel)",
   "language": "python",
   "name": "python3"
  },
  "language_info": {
   "codemirror_mode": {
    "name": "ipython",
    "version": 3
   },
   "file_extension": ".py",
   "mimetype": "text/x-python",
   "name": "python",
   "nbconvert_exporter": "python",
   "pygments_lexer": "ipython3",
   "version": "3.9.7"
  }
 },
 "nbformat": 4,
 "nbformat_minor": 5
}
